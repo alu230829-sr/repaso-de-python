{
  "nbformat": 4,
  "nbformat_minor": 0,
  "metadata": {
    "colab": {
      "provenance": [],
      "authorship_tag": "ABX9TyM7ZHNwBK1khkFWTlFafInk",
      "include_colab_link": true
    },
    "kernelspec": {
      "name": "python3",
      "display_name": "Python 3"
    },
    "language_info": {
      "name": "python"
    }
  },
  "cells": [
    {
      "cell_type": "markdown",
      "metadata": {
        "id": "view-in-github",
        "colab_type": "text"
      },
      "source": [
        "<a href=\"https://colab.research.google.com/github/alu230829-sr/repaso-de-python/blob/main/giovanni_mg.ipynb\" target=\"_parent\"><img src=\"https://colab.research.google.com/assets/colab-badge.svg\" alt=\"Open In Colab\"/></a>"
      ]
    },
    {
      "cell_type": "code",
      "execution_count": null,
      "metadata": {
        "id": "4umoOHzs-7ZS"
      },
      "outputs": [],
      "source": []
    },
    {
      "cell_type": "markdown",
      "source": [
        "realizar un programa que permita capturar tu nombre y lo imprimas seguido de una bienvenida"
      ],
      "metadata": {
        "id": "HfidhO79_Zgm"
      }
    },
    {
      "cell_type": "code",
      "source": [
        "nombre = input (\"escribe tu nombre: \")\n",
        "print (\"Bienvenido, \" + nombre +\"!\")"
      ],
      "metadata": {
        "colab": {
          "base_uri": "https://localhost:8080/"
        },
        "id": "ZfPqjxoh_2SU",
        "outputId": "583655c9-a580-4981-8b75-3aa753785647"
      },
      "execution_count": 1,
      "outputs": [
        {
          "output_type": "stream",
          "name": "stdout",
          "text": [
            "escribe tu nombre: giovanni\n",
            "Bienvenido, giovanni!\n"
          ]
        }
      ]
    },
    {
      "cell_type": "markdown",
      "source": [
        "realizar un programa que permita capturar 2 numeros enteros e imprima la suma, la resta, la multiplicacion y la division entre ellos."
      ],
      "metadata": {
        "id": "ST40NJ7tCo31"
      }
    },
    {
      "cell_type": "code",
      "source": [
        "num1=int(input(\"captura un numero\"))\n",
        "num2=int(input(\"captura un numero\"))\n",
        "suma=num1+num2\n",
        "resta=num1-num2\n",
        "multiplicacion=num1*num2\n",
        "division=num1/num2\n",
        "print(\"la suma es\", suma)\n",
        "print(\"la resta es\", resta)\n",
        "print(\"la multiplicacion es\", multiplicacion)\n",
        "print(\"la division es\", division)\n"
      ],
      "metadata": {
        "colab": {
          "base_uri": "https://localhost:8080/"
        },
        "id": "INq5izpiCofc",
        "outputId": "ed60b6f0-b0b4-4283-b1b9-e2f2ad8ff732"
      },
      "execution_count": 4,
      "outputs": [
        {
          "output_type": "stream",
          "name": "stdout",
          "text": [
            "captura un numero18\n",
            "captura un numero10\n",
            "la suma es 28\n",
            "la resta es 8\n",
            "la multiplicacion es 180\n",
            "la division es 1.8\n"
          ]
        }
      ]
    }
  ]
}